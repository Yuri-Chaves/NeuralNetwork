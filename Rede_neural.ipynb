{
  "cells": [
    {
      "cell_type": "markdown",
      "metadata": {
        "id": "APPZn2cL-1XV"
      },
      "source": [
        "# Importação de Bibliotecas"
      ]
    },
    {
      "cell_type": "code",
      "execution_count": null,
      "metadata": {
        "id": "Oo-2Hw7t7ph6"
      },
      "outputs": [],
      "source": [
        "import numpy as np\n",
        "import torch\n",
        "import numpy as np\n",
        "from torch import nn\n",
        "from torch.utils.data import Dataset, DataLoader\n",
        "import pandas as pd\n",
        "import matplotlib.pyplot as plt"
      ]
    },
    {
      "cell_type": "markdown",
      "metadata": {
        "id": "A8wHP5B9B04d"
      },
      "source": [
        "# Definição de variáveis"
      ]
    },
    {
      "cell_type": "code",
      "execution_count": null,
      "metadata": {
        "id": "RSNEUBqm_MQx"
      },
      "outputs": [],
      "source": [
        "in_features = 5\n",
        "out_features = 3"
      ]
    },
    {
      "cell_type": "markdown",
      "metadata": {
        "id": "C8098Sx_E2N1"
      },
      "source": [
        "# Definição do modelo"
      ]
    },
    {
      "cell_type": "code",
      "execution_count": null,
      "metadata": {
        "id": "7BiSTORyE7yc"
      },
      "outputs": [],
      "source": [
        "class CreditNetwork(nn.Module):\n",
        "  def __init__(self):\n",
        "    super().__init__()\n",
        "    self.layers = nn.Sequential(\n",
        "        nn.Linear(in_features, 128),\n",
        "        nn.ReLU(),\n",
        "        nn.Linear(128, 64),\n",
        "        nn.ReLU(),\n",
        "        nn.Linear(64, 32),\n",
        "        nn.ReLU(),\n",
        "        nn.Linear(32, 8),\n",
        "        nn.ReLU(),\n",
        "        nn.Linear(8, out_features),\n",
        "    )\n",
        "\n",
        "  def forward(self, x):\n",
        "    return self.layers(x)"
      ]
    },
    {
      "cell_type": "markdown",
      "metadata": {
        "id": "C24jWwHVF7Ne"
      },
      "source": [
        "# Preparando os dados de entrada"
      ]
    },
    {
      "cell_type": "code",
      "execution_count": null,
      "metadata": {
        "id": "wkay5MkIGEdk"
      },
      "outputs": [],
      "source": [
        "class CreditDataset(Dataset):\n",
        "    def __init__(self, X, y):\n",
        "        self.X = torch.tensor(X, dtype=torch.float32)\n",
        "        self.y = torch.tensor(y, dtype=torch.long)\n",
        "\n",
        "    def __len__(self):\n",
        "        return len(self.X)\n",
        "\n",
        "    def __getitem__(self, idx):\n",
        "        return self.X[idx], self.y[idx]"
      ]
    },
    {
      "cell_type": "code",
      "execution_count": null,
      "metadata": {},
      "outputs": [],
      "source": [
        "baseUrl = \"https://raw.githubusercontent.com/Yuri-Chaves/NeuralNetwork/refs/heads/main/Dataset\"\n",
        "dfTrain = pd.read_csv(f\"{baseUrl}/clientes_credito_train.csv\")\n",
        "dfTest = pd.read_csv(f\"{baseUrl}/clientes_credito_test.csv\")\n",
        "\n",
        "# Selecionar as colunas relevantes\n",
        "XTrain = dfTrain[[\"idade\", \"renda_mensal\", \"historico_pagamento\", \"dividas_ativas\", \"score_credito\"]].values\n",
        "YTrain = dfTrain[\"grupo_credito\"].map({\"green\": 0, \"yellow\": 1, \"red\": 2}).values\n",
        "\n",
        "XTest = dfTest[[\"idade\", \"renda_mensal\", \"historico_pagamento\", \"dividas_ativas\", \"score_credito\"]].values\n",
        "YTest = dfTest[\"grupo_credito\"].map({\"green\": 0, \"yellow\": 1, \"red\": 2}).values"
      ]
    },
    {
      "cell_type": "code",
      "execution_count": null,
      "metadata": {},
      "outputs": [],
      "source": [
        "trainDataset = CreditDataset(XTrain, YTrain)\n",
        "testDataset = CreditDataset(XTest, YTest)\n",
        "\n",
        "trainDataLoader = DataLoader(trainDataset, batch_size=32, shuffle=True)\n",
        "testDataLoader = DataLoader(testDataset, batch_size=32, shuffle=False)"
      ]
    },
    {
      "cell_type": "markdown",
      "metadata": {},
      "source": [
        "# Hiperparâmetros de Otimização"
      ]
    },
    {
      "cell_type": "code",
      "execution_count": null,
      "metadata": {},
      "outputs": [],
      "source": [
        "# Validando ambiente de execução\n",
        "device = \"cuda\" if torch.cuda.is_available() else \"cpu\"\n",
        "print(f\"Rodando na {device}\")"
      ]
    },
    {
      "cell_type": "code",
      "execution_count": null,
      "metadata": {},
      "outputs": [],
      "source": [
        "model = CreditNetwork().to(device)"
      ]
    },
    {
      "cell_type": "code",
      "execution_count": null,
      "metadata": {},
      "outputs": [],
      "source": [
        "# Função de perda (loss function)\n",
        "# Erro quadrático médio (Mean Squared Error) MSELoss Usado para regressão\n",
        "# Perda de entropia cruzada (CrossEntropyLoss) Calcula a perda de entropia cruzada entre logits de entrada e alvo\n",
        "lossFunc = nn.CrossEntropyLoss()\n",
        "# Gradiente Descendente Estocástico\n",
        "# SGD = Stochastic Gradient Descent\n",
        "optimizer = torch.optim.Adam(model.parameters(), lr=1e-3)\n",
        "# taxa de aprendizado lr = learning rate"
      ]
    },
    {
      "cell_type": "markdown",
      "metadata": {},
      "source": [
        "# Função de treinamento"
      ]
    },
    {
      "cell_type": "code",
      "execution_count": null,
      "metadata": {},
      "outputs": [],
      "source": [
        "def train(model, dataloader, lossFunc, optimizer):\n",
        "  model.train()\n",
        "  cumLoss = 0.0\n",
        "  for X, y in dataloader:\n",
        "    X = X.float().to(device)\n",
        "    y = y.float().to(device)\n",
        "\n",
        "    pred = model(X)\n",
        "    loss = lossFunc(pred, y)\n",
        "\n",
        "    # zera os gradientes acumulados\n",
        "    optimizer.zero_grad()\n",
        "    # computa os gradientes\n",
        "    loss.backward()\n",
        "    # anda, de fato, na direção que reduz o erro local\n",
        "    optimizer.step()\n",
        "\n",
        "    # loss é um tensor; item pra obter o float\n",
        "    cumLoss += loss.item()\n",
        "\n",
        "  return cumLoss / len(dataloader)"
      ]
    },
    {
      "cell_type": "markdown",
      "metadata": {},
      "source": [
        "# Função de teste"
      ]
    },
    {
      "cell_type": "code",
      "execution_count": null,
      "metadata": {},
      "outputs": [],
      "source": [
        "def test(model, dataloader, lossFunc):\n",
        "  model.eval()\n",
        "\n",
        "  cumLoss = 0.0\n",
        "  with torch.no_grad():\n",
        "    for X, y in dataloader:\n",
        "      X = X.float().to(device)\n",
        "      y = y.float().to(device)\n",
        "\n",
        "      pred = model(X)\n",
        "      loss = lossFunc(pred, y)\n",
        "      cumLoss += loss.item()\n",
        "\n",
        "  return cumLoss / len(dataloader)"
      ]
    },
    {
      "cell_type": "markdown",
      "metadata": {},
      "source": [
        "# Função para visualização do treinamento"
      ]
    },
    {
      "cell_type": "code",
      "execution_count": null,
      "metadata": {},
      "outputs": [],
      "source": [
        "def plotComparison(model, XTest, YTest, device):\n",
        "    fig, ax = plt.subplots(figsize=(10, 6))\n",
        "\n",
        "    ax.grid(True, which='both')\n",
        "    ax.spines['left'].set_position('zero')\n",
        "    ax.spines['right'].set_color('none')\n",
        "    ax.spines['bottom'].set_position('zero')\n",
        "    ax.spines['top'].set_color('none')\n",
        "\n",
        "    # Converter X_test para tensor e fazer previsões\n",
        "    XTensor = torch.tensor(XTest, dtype=torch.float32).to(device)\n",
        "    model.eval()\n",
        "    with torch.no_grad():\n",
        "        yPred = model(XTensor)  # Obter logits ou probabilidades\n",
        "\n",
        "    # Converter para classes (0, 1, 2)\n",
        "    y_pred_classes = torch.argmax(yPred, dim=1).cpu().numpy()\n",
        "\n",
        "    # Definir cores para cada grupo de crédito\n",
        "    colors = {0: \"green\", 1: \"orange\", 2: \"red\"}\n",
        "\n",
        "    # Criar scatter plot (Gráfico de dispersão)\n",
        "    for i in range(3):  # Para cada classe (0, 1, 2)\n",
        "        indices = np.where(YTest == i)[0]  # Índices dos exemplos dessa classe\n",
        "        ax.scatter(indices, YTest[indices], color=colors[i], label=f\"Real {i}\", marker=\"o\")\n",
        "        ax.scatter(indices, y_pred_classes[indices], color=colors[i], marker=\"x\", label=f\"Pred {i}\")\n",
        "\n",
        "    ax.set_xlabel(\"Amostras\")\n",
        "    ax.set_ylabel(\"Grupo de Crédito\")\n",
        "    plt.legend()\n",
        "    plt.show()"
      ]
    },
    {
      "cell_type": "markdown",
      "metadata": {},
      "source": [
        "# Treinamento"
      ]
    },
    {
      "cell_type": "code",
      "execution_count": null,
      "metadata": {},
      "outputs": [],
      "source": [
        "epochs = 201\n",
        "for t in range(epochs):\n",
        "  trainLoss = train(model, trainDataLoader, lossFunc, optimizer)\n",
        "  if t % 50 == 0:\n",
        "    print(f\"Epoch: {t}; Train Loss: {trainLoss}\")\n",
        "    plotComparison(model, XTest, YTest, device)"
      ]
    },
    {
      "cell_type": "markdown",
      "metadata": {},
      "source": [
        "# Teste"
      ]
    },
    {
      "cell_type": "code",
      "execution_count": null,
      "metadata": {},
      "outputs": [],
      "source": [
        "testLoss = test(model, testDataLoader, lossFunc)\n",
        "print(f\"Test Loss: {testLoss}\")\n",
        "plotComparison(model, XTest, YTest, device)"
      ]
    }
  ],
  "metadata": {
    "accelerator": "GPU",
    "colab": {
      "gpuType": "T4",
      "provenance": []
    },
    "kernelspec": {
      "display_name": "Python 3",
      "name": "python3"
    },
    "language_info": {
      "name": "python"
    }
  },
  "nbformat": 4,
  "nbformat_minor": 0
}
