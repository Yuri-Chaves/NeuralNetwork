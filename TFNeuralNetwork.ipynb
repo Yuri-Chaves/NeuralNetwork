{
 "cells": [
  {
   "cell_type": "code",
   "execution_count": null,
   "metadata": {},
   "outputs": [],
   "source": [
    "import numpy as np\n",
    "import pandas as pd\n",
    "from sklearn.model_selection import train_test_split\n",
    "from sklearn.preprocessing import StandardScaler\n",
    "from tensorflow.keras.models import Sequential\n",
    "from tensorflow.keras.layers import Dense\n",
    "from tensorflow.keras.utils import to_categorical"
   ]
  },
  {
   "cell_type": "code",
   "execution_count": null,
   "metadata": {},
   "outputs": [],
   "source": [
    "in_features = 5\n",
    "out_features = 3"
   ]
  },
  {
   "cell_type": "code",
   "execution_count": null,
   "metadata": {},
   "outputs": [],
   "source": [
    "baseUrl = \"https://raw.githubusercontent.com/Yuri-Chaves/NeuralNetwork/refs/heads/main/Dataset\"\n",
    "dfTrain = pd.read_csv(f\"{baseUrl}/clientes_credito_train.csv\")\n",
    "dfTest = pd.read_csv(f\"{baseUrl}/clientes_credito_test.csv\")\n",
    "\n",
    "XTrain = dfTrain[[\"renda_mensal\", \"historico_pagamento\", \"dividas_ativas\", \"score_credito\"]].values\n",
    "YTrain = dfTrain[\"grupo_credito\"].map({\"green\": 0, \"yellow\": 1, \"red\": 2}).values\n",
    "\n",
    "XTest = dfTest[[\"renda_mensal\", \"historico_pagamento\", \"dividas_ativas\", \"score_credito\"]].values\n",
    "YTest = dfTest[\"grupo_credito\"].map({\"green\": 0, \"yellow\": 1, \"red\": 2}).values\n",
    "\n",
    "YTrain = to_categorical(YTrain, num_classes=3)\n",
    "YTest = to_categorical(YTest, num_classes=3)"
   ]
  },
  {
   "cell_type": "code",
   "execution_count": null,
   "metadata": {},
   "outputs": [],
   "source": [
    "scaler = StandardScaler()\n",
    "XTrain = scaler.fit_transform(XTrain)\n",
    "XTest = scaler.transform(XTest)"
   ]
  },
  {
   "cell_type": "code",
   "execution_count": null,
   "metadata": {},
   "outputs": [],
   "source": [
    "model = Sequential()\n",
    "model.add(Dense(64, input_dim=in_features, activation='relu'))\n",
    "model.add(Dense(32, activation='relu'))\n",
    "model.add(Dense(out_features, activation='softmax'))"
   ]
  },
  {
   "cell_type": "code",
   "execution_count": null,
   "metadata": {},
   "outputs": [],
   "source": [
    "model.compile(loss='categorical_crossentropy', optimizer='adam', metrics=['accuracy'])"
   ]
  },
  {
   "cell_type": "code",
   "execution_count": null,
   "metadata": {},
   "outputs": [],
   "source": [
    "model.fit(XTrain, YTrain, epochs=50, batch_size=10, validation_data=(XTest, YTest))"
   ]
  },
  {
   "cell_type": "code",
   "execution_count": null,
   "metadata": {},
   "outputs": [],
   "source": [
    "loss, accuracy = model.evaluate(XTest, YTest)\n",
    "print(f'Acurácia do modelo: {accuracy * 100:.2f}%')"
   ]
  },
  {
   "cell_type": "code",
   "execution_count": null,
   "metadata": {},
   "outputs": [],
   "source": [
    "novos_clientes = np.array([[4500, 89, 5500, 720], [3500, 90, 6000, 580]])\n",
    "novos_clientes = scaler.transform(novos_clientes)\n",
    "previsoes = model.predict(novos_clientes)\n",
    "classes = np.argmax(previsoes, axis=1) # Convertendo de volta para 1, 2, 3\n",
    "print(f'Classificação dos novos clientes: {classes}')"
   ]
  }
 ],
 "metadata": {
  "language_info": {
   "name": "python"
  }
 },
 "nbformat": 4,
 "nbformat_minor": 2
}
