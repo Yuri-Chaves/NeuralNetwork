{
 "cells": [
  {
   "cell_type": "code",
   "execution_count": 1,
   "metadata": {},
   "outputs": [],
   "source": [
    "import pandas as pd\n",
    "import numpy as np"
   ]
  },
  {
   "cell_type": "code",
   "execution_count": 2,
   "metadata": {},
   "outputs": [],
   "source": [
    "np.random.seed(42)\n",
    "total_registros = 1000"
   ]
  },
  {
   "cell_type": "code",
   "execution_count": 3,
   "metadata": {},
   "outputs": [],
   "source": [
    "id_cliente = np.arange(1, total_registros + 1)\n",
    "idade = np.random.randint(18, 70, total_registros)\n",
    "renda_mensal = np.random.randint(1412, 20000, total_registros)\n",
    "dividas_ativas = np.random.randint(0, 50000, total_registros)\n",
    "historico_pagamento = np.random.randint(50, 101, total_registros)  # % de pagamentos em dia\n",
    "score_credito = np.random.randint(0, 1001, total_registros)  # Score de 0 a 1000"
   ]
  },
  {
   "cell_type": "code",
   "execution_count": 4,
   "metadata": {},
   "outputs": [],
   "source": [
    "def classifyRisk(score, debt, history):\n",
    "    if score >= 700 and debt < 5000 and history > 80:\n",
    "        return \"green\"  # Baixo risco\n",
    "    elif score >= 500 and debt < 20000 and history > 50:\n",
    "        return \"yellow\"  # Médio risco\n",
    "    else:\n",
    "        return \"red\"  # Alto risco"
   ]
  },
  {
   "cell_type": "code",
   "execution_count": 6,
   "metadata": {},
   "outputs": [],
   "source": [
    "grupo_credito = [\n",
    "    classifyRisk(score_credito[i], dividas_ativas[i], historico_pagamento[i])\n",
    "    for i in range(total_registros)\n",
    "]"
   ]
  },
  {
   "cell_type": "code",
   "execution_count": 7,
   "metadata": {},
   "outputs": [],
   "source": [
    "df = pd.DataFrame({\n",
    "    \"id_cliente\": id_cliente,\n",
    "    \"idade\": idade,\n",
    "    \"renda_mensal\": renda_mensal,\n",
    "    \"dividas_ativas\": dividas_ativas,\n",
    "    \"historico_pagamento\": historico_pagamento,\n",
    "    \"score_credito\": score_credito,\n",
    "    \"grupo_credito\": grupo_credito\n",
    "})"
   ]
  },
  {
   "cell_type": "code",
   "execution_count": 8,
   "metadata": {},
   "outputs": [],
   "source": [
    "df.to_csv(\"./Dataset/clientes_credito.csv\", index=False)"
   ]
  }
 ],
 "metadata": {
  "kernelspec": {
   "display_name": "Python 3",
   "language": "python",
   "name": "python3"
  },
  "language_info": {
   "codemirror_mode": {
    "name": "ipython",
    "version": 3
   },
   "file_extension": ".py",
   "mimetype": "text/x-python",
   "name": "python",
   "nbconvert_exporter": "python",
   "pygments_lexer": "ipython3",
   "version": "3.9.13"
  }
 },
 "nbformat": 4,
 "nbformat_minor": 2
}
