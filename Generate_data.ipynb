{
 "cells": [
  {
   "cell_type": "code",
   "execution_count": 28,
   "metadata": {},
   "outputs": [],
   "source": [
    "import pandas as pd\n",
    "import numpy as np"
   ]
  },
  {
   "cell_type": "code",
   "execution_count": 29,
   "metadata": {},
   "outputs": [],
   "source": [
    "np.random.seed(42)\n",
    "trainNData = 1000\n",
    "testNData = 100"
   ]
  },
  {
   "cell_type": "code",
   "execution_count": 30,
   "metadata": {},
   "outputs": [],
   "source": [
    "trainData = {\n",
    "  \"id_cliente\": np.arange(1, trainNData + 1),\n",
    "  \"idade\": np.random.randint(18, 70, trainNData),\n",
    "  \"renda_mensal\": np.random.randint(1412, 20000, trainNData),\n",
    "  \"dividas_ativas\": np.random.randint(0, 50000, trainNData),\n",
    "  \"historico_pagamento\": np.random.randint(50, 101, trainNData),  # % de pagamentos em dia\n",
    "  \"score_credito\": np.random.randint(0, 1001, trainNData)  # Score de 0 a 1000\n",
    "}\n",
    "testData = {\n",
    "  \"id_cliente\": np.arange(1, testNData + 1),\n",
    "  \"idade\": np.random.randint(18, 70, testNData),\n",
    "  \"renda_mensal\": np.random.randint(1412, 20000, testNData),\n",
    "  \"dividas_ativas\": np.random.randint(0, 50000, testNData),\n",
    "  \"historico_pagamento\": np.random.randint(50, 101, testNData),  # % de pagamentos em dia\n",
    "  \"score_credito\": np.random.randint(0, 1001, testNData)  # Score de 0 a 1000\n",
    "}"
   ]
  },
  {
   "cell_type": "code",
   "execution_count": 31,
   "metadata": {},
   "outputs": [],
   "source": [
    "def classifyRisk(score, debt, history):\n",
    "    if score >= 700 and debt < 5000 and history > 80:\n",
    "        return \"green\"  # Baixo risco\n",
    "    elif score >= 500 and debt < 20000 and history > 50:\n",
    "        return \"yellow\"  # Médio risco\n",
    "    else:\n",
    "        return \"red\"  # Alto risco"
   ]
  },
  {
   "cell_type": "code",
   "execution_count": 32,
   "metadata": {},
   "outputs": [],
   "source": [
    "trainData[\"grupo_credito\"] = [\n",
    "    classifyRisk(trainData[\"score_credito\"][i], trainData[\"dividas_ativas\"][i], trainData[\"historico_pagamento\"][i])\n",
    "    for i in range(trainNData)\n",
    "]\n",
    "testData[\"grupo_credito\"] = [\n",
    "    classifyRisk(testData[\"score_credito\"][i], testData[\"dividas_ativas\"][i], testData[\"historico_pagamento\"][i])\n",
    "    for i in range(testNData)\n",
    "]"
   ]
  },
  {
   "cell_type": "code",
   "execution_count": 33,
   "metadata": {},
   "outputs": [],
   "source": [
    "trainDataSet = pd.DataFrame(trainData)\n",
    "testDataSet = pd.DataFrame(testData)"
   ]
  },
  {
   "cell_type": "code",
   "execution_count": 34,
   "metadata": {},
   "outputs": [],
   "source": [
    "trainDataSet.to_csv(\"./Dataset/clientes_credito_train.csv\", index=False)\n",
    "testDataSet.to_csv(\"./Dataset/clientes_credito_test.csv\", index=False)"
   ]
  }
 ],
 "metadata": {
  "kernelspec": {
   "display_name": "Python 3",
   "language": "python",
   "name": "python3"
  },
  "language_info": {
   "codemirror_mode": {
    "name": "ipython",
    "version": 3
   },
   "file_extension": ".py",
   "mimetype": "text/x-python",
   "name": "python",
   "nbconvert_exporter": "python",
   "pygments_lexer": "ipython3",
   "version": "3.9.13"
  }
 },
 "nbformat": 4,
 "nbformat_minor": 2
}
